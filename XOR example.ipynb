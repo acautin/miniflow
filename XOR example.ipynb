{
 "cells": [
  {
   "cell_type": "markdown",
   "metadata": {
    "collapsed": true
   },
   "source": [
    "# XOR example using miniflow\n",
    "We will create a network with a hidden layer of 4 neuros using sigmoid as activation function."
   ]
  },
  {
   "cell_type": "code",
   "execution_count": 1,
   "metadata": {
    "collapsed": true
   },
   "outputs": [],
   "source": [
    "from node import *\n",
    "import miniflow as mf\n",
    "import numpy as np"
   ]
  },
  {
   "cell_type": "markdown",
   "metadata": {},
   "source": [
    "### Initializing the training data."
   ]
  },
  {
   "cell_type": "code",
   "execution_count": 2,
   "metadata": {
    "collapsed": true
   },
   "outputs": [],
   "source": [
    "X_ = np.array([[0., 0.], [0., 1.], [1., 0.], [1., 1.]])\n",
    "y_ = np.array([[0.], [1.], [1.], [0.]])"
   ]
  },
  {
   "cell_type": "markdown",
   "metadata": {},
   "source": [
    "### Defining the placeholders and initializing weights randomly and bias as 0 "
   ]
  },
  {
   "cell_type": "code",
   "execution_count": 3,
   "metadata": {
    "collapsed": true
   },
   "outputs": [],
   "source": [
    "n_features = 2\n",
    "n_hidden = 4\n",
    "W1_ = np.random.randn(n_features, n_hidden)\n",
    "b1_ = np.zeros(n_hidden)\n",
    "W2_ = np.random.randn(n_hidden, 1)\n",
    "b2_ = np.zeros(1)"
   ]
  },
  {
   "cell_type": "markdown",
   "metadata": {},
   "source": [
    "### Create the neural network architecture, initialize the graph and define the trainable variables "
   ]
  },
  {
   "cell_type": "code",
   "execution_count": 4,
   "metadata": {
    "collapsed": true
   },
   "outputs": [],
   "source": [
    "# Neural network\n",
    "X, y = Input(), Input()\n",
    "W1, b1 = Input(), Input()\n",
    "W2, b2 = Input(), Input()\n",
    "\n",
    "l1 = Linear(X, W1, b1)\n",
    "s1 = Sigmoid(l1)\n",
    "l2 = Linear(s1, W2, b2)\n",
    "cost = MSE(y, l2)\n",
    "\n",
    "feed_dict = {\n",
    "    X: X_,\n",
    "    y: y_,\n",
    "    W1: W1_,\n",
    "    b1: b1_,\n",
    "    W2: W2_,\n",
    "    b2: b2_\n",
    "}\n",
    "graph = mf.topological_sort(feed_dict)\n",
    "trainables = [W1, b1, W2, b2]"
   ]
  },
  {
   "cell_type": "markdown",
   "metadata": {
    "collapsed": true
   },
   "source": [
    "### Run the actual training"
   ]
  },
  {
   "cell_type": "code",
   "execution_count": 5,
   "metadata": {},
   "outputs": [
    {
     "name": "stdout",
     "output_type": "stream",
     "text": [
      "Epoch: 250, Loss: 0.2486\n",
      "Epoch: 500, Loss: 0.2420\n",
      "Epoch: 750, Loss: 0.2243\n",
      "Epoch: 1000, Loss: 0.1693\n",
      "Epoch: 1250, Loss: 0.0650\n",
      "Epoch: 1500, Loss: 0.0085\n",
      "Epoch: 1750, Loss: 0.0006\n",
      "Epoch: 2000, Loss: 0.0000\n",
      "Epoch: 2250, Loss: 0.0000\n",
      "Epoch: 2500, Loss: 0.0000\n"
     ]
    }
   ],
   "source": [
    "epochs = 2500\n",
    "learning_rate = 0.1\n",
    "print_every = 250\n",
    "for i in range(epochs):\n",
    "    mf.forward_and_backward(graph)\n",
    "    mf.sgd_update(trainables, learning_rate)\n",
    "    loss = graph[-1].value\n",
    "    if (i+1) % print_every == 0:\n",
    "        print(\"Epoch: {}, Loss: {:.4f}\".format(i+1, loss))"
   ]
  },
  {
   "cell_type": "markdown",
   "metadata": {},
   "source": [
    "### Look at the network final value, remeber expected is [0, 1, 1, 0]"
   ]
  },
  {
   "cell_type": "code",
   "execution_count": 6,
   "metadata": {},
   "outputs": [
    {
     "data": {
      "text/plain": [
       "array([[  1.84801491e-04],\n",
       "       [  9.99717173e-01],\n",
       "       [  9.99654185e-01],\n",
       "       [  3.86623589e-04]])"
      ]
     },
     "execution_count": 6,
     "metadata": {},
     "output_type": "execute_result"
    }
   ],
   "source": [
    "l2.value"
   ]
  },
  {
   "cell_type": "code",
   "execution_count": null,
   "metadata": {
    "collapsed": true
   },
   "outputs": [],
   "source": []
  }
 ],
 "metadata": {
  "kernelspec": {
   "display_name": "Python 3",
   "language": "python",
   "name": "python3"
  },
  "language_info": {
   "codemirror_mode": {
    "name": "ipython",
    "version": 3
   },
   "file_extension": ".py",
   "mimetype": "text/x-python",
   "name": "python",
   "nbconvert_exporter": "python",
   "pygments_lexer": "ipython3",
   "version": "3.6.1"
  }
 },
 "nbformat": 4,
 "nbformat_minor": 2
}
